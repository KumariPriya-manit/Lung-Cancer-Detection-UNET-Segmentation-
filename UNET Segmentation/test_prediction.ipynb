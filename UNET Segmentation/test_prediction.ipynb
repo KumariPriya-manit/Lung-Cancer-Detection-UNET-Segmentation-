{
 "cells": [
  {
   "cell_type": "code",
   "execution_count": 12,
   "metadata": {},
   "outputs": [],
   "source": [
    "import numpy as np\n",
    "from keras.models import Model\n",
    "from keras.layers import Input, Conv2D, MaxPooling2D, UpSampling2D, concatenate, Cropping2D, ZeroPadding2D, Convolution2D, Conv2DTranspose\n",
    "from keras.optimizers import Adam\n",
    "from keras.optimizers import SGD\n",
    "from keras.callbacks import ModelCheckpoint, LearningRateScheduler, TensorBoard\n",
    "from keras import backend as K\n",
    "from skimage.transform import resize\n",
    "from skimage.io import imsave\n",
    "import os\n",
    "import csv \n",
    "\n",
    "K.set_image_dim_ordering('th')  # Theano dimension ordering in this code\n",
    "working_path = \"/disk1/luna16/output/\"\n",
    "main_path = \"/disk1/luna16/\"\n",
    "unet_weight = \"/root/sharedfolder/luna16/unet.hdf5\"\n",
    "BATCH_SIZE= 6\n",
    "EPOCHS=1\n",
    "img_rows = 512\n",
    "img_cols = 512\n",
    "\n",
    "smooth = 1."
   ]
  },
  {
   "cell_type": "code",
   "execution_count": 2,
   "metadata": {},
   "outputs": [],
   "source": [
    "import matplotlib.pyplot as plt\n",
    "import pylab\n",
    "img = np.load(main_path+\"trainImages.npy\").astype(np.float32)\n",
    "mask = np.load(main_path+\"trainMasks.npy\").astype(np.float32)"
   ]
  },
  {
   "cell_type": "code",
   "execution_count": 3,
   "metadata": {},
   "outputs": [],
   "source": [
    "def get_model():\n",
    "    \n",
    "    inputs = Input((1, img_rows, img_cols))\n",
    "\n",
    "    conv1 = Conv2D(32, (3, 3), activation='relu', padding='same')(inputs)\n",
    "    conv1 = Conv2D(32, (3, 3), activation='relu', padding='same')(conv1)\n",
    "    pool1 = MaxPooling2D(pool_size=(2, 2))(conv1)\n",
    "\n",
    "    conv2 = Conv2D(64, (3, 3), activation='relu', padding='same')(pool1)\n",
    "    conv2 = Conv2D(64, (3, 3), activation='relu', padding='same')(conv2)\n",
    "    pool2 = MaxPooling2D(pool_size=(2, 2))(conv2)\n",
    "\n",
    "    conv3 = Conv2D(128, (3, 3), activation='relu', padding='same')(pool2)\n",
    "    conv3 = Conv2D(128, (3, 3), activation='relu', padding='same')(conv3)\n",
    "    pool3 = MaxPooling2D(pool_size=(2, 2))(conv3)\n",
    "\n",
    "    conv4 = Conv2D(256, (3, 3), activation='relu', padding='same')(pool3)\n",
    "    conv4 = Conv2D(256, (3, 3), activation='relu', padding='same')(conv4)\n",
    "    pool4 = MaxPooling2D(pool_size=(2, 2))(conv4)\n",
    "\n",
    "    conv5 = Conv2D(512, (3, 3), activation='relu', padding='same')(pool4)\n",
    "    conv5 = Conv2D(512, (3, 3), activation='relu', padding='same')(conv5)\n",
    "\n",
    "    up6 = concatenate([UpSampling2D(size=(2, 2))(conv5), conv4], axis=1)\n",
    "    conv6 = Conv2D(256, (3, 3), activation='relu', padding='same')(up6)\n",
    "    conv6 = Conv2D(256, (3, 3), activation='relu', padding='same')(conv6)\n",
    "\n",
    "    up7 = concatenate([UpSampling2D(size=(2, 2))(conv6), conv3], axis=1)\n",
    "    conv7 = Conv2D(128, (3, 3), activation='relu', padding='same')(up7)\n",
    "    conv7 = Conv2D(128, (3, 3), activation='relu', padding='same')(conv7)\n",
    "\n",
    "    up8 = concatenate([UpSampling2D(size=(2, 2))(conv7), conv2], axis=1)\n",
    "    conv8 = Conv2D(64, (3, 3), activation='relu', padding='same')(up8)\n",
    "    conv8 = Conv2D(64, (3, 3), activation='relu', padding='same')(conv8)\n",
    "\n",
    "    up9 = concatenate([UpSampling2D(size=(2, 2))(conv8), conv1], axis=1)\n",
    "    conv9 = Conv2D(32, (3, 3), activation='relu', padding='same')(up9)\n",
    "    conv9 = Conv2D(32, (3, 3), activation='relu', padding='same')(conv9)\n",
    "    conv10 = Conv2D(1, (1, 1), activation='sigmoid')(conv9)\n",
    "\n",
    "    model = Model(inputs=[inputs], outputs=[conv10])\n",
    "\n",
    "    model.compile(optimizer=Adam(lr=1e-5), loss='binary_crossentropy', metrics = ['accuracy'])\n",
    "\n",
    "    return model"
   ]
  },
  {
   "cell_type": "code",
   "execution_count": 4,
   "metadata": {},
   "outputs": [
    {
     "name": "stdout",
     "output_type": "stream",
     "text": [
      "------------------------------\n",
      "Loading and preprocessing train data...\n",
      "------------------------------\n",
      "Creating and compiling model...\n"
     ]
    }
   ],
   "source": [
    "print('-'*30)\n",
    "print('Loading and preprocessing train data...')\n",
    "\n",
    "imgs_train = np.load(main_path+\"trainImages.npy\").astype(np.float32)\n",
    "imgs_mask_train = np.load(main_path+\"trainMasks.npy\").astype(np.float32)\n",
    "\n",
    "#     imgs_test = np.load(working_path+\"valImages.npy\").astype(np.float32)\n",
    "#     imgs_mask_test_true = np.load(working_path+\"valMasks.npy\").astype(np.float32)\n",
    "\n",
    "imgs_test = np.load(main_path+\"testImages.npy\").astype(np.float32)\n",
    "imgs_mask_test_true = np.load(main_path+\"testMasks.npy\").astype(np.float32)\n",
    "\n",
    "mean = np.mean(imgs_train)  # mean for data centering\n",
    "std = np.std(imgs_train)  # std for data normalization\n",
    "\n",
    "imgs_train -= mean  # images should already be standardized, but just in case\n",
    "imgs_train /= std\n",
    "\n",
    "print('-'*30)\n",
    "print('Creating and compiling model...')\n",
    "\n",
    "model = get_model()\n",
    "\n",
    "# Saving weights to unet.hdf5 at checkpoints\n",
    "model_checkpoint = ModelCheckpoint('best_unet.hdf5', monitor='loss', save_best_only=True)\n",
    "tb = TensorBoard(log_dir=\"logs_unet\", batch_size=BATCH_SIZE)\n",
    "# Set argument for call to train_and_predict to true at end of script"
   ]
  },
  {
   "cell_type": "code",
   "execution_count": 5,
   "metadata": {},
   "outputs": [],
   "source": [
    "num_test = len(mask)\n",
    "imgs_mask_test = np.ndarray([num_test,1,512,512],dtype=np.float32)\n",
    "\n",
    "for i in range(num_test):\n",
    "    imgs_mask_test[i] = model.predict([imgs_train[i:i+1]], verbose=0)[0]\n",
    "    \n",
    "np.save('masksTestPredicted.npy', imgs_mask_test)"
   ]
  },
  {
   "cell_type": "code",
   "execution_count": 6,
   "metadata": {},
   "outputs": [],
   "source": [
    "import matplotlib.pyplot as plt\n",
    "import pylab\n",
    "masks_predict = np.load(\"/root/sharedfolder/luna16/masksTestPredicted.npy\").astype(np.float32)"
   ]
  },
  {
   "cell_type": "code",
   "execution_count": 7,
   "metadata": {},
   "outputs": [
    {
     "data": {
      "text/plain": [
       "(512, 512)"
      ]
     },
     "execution_count": 7,
     "metadata": {},
     "output_type": "execute_result"
    },
    {
     "data": {
      "image/png": "[encoded data removed]",
      "text/plain": [
       "<Figure size 432x288 with 1 Axes>"
      ]
     },
     "metadata": {},
     "output_type": "display_data"
    }
   ],
   "source": [
    "test = masks_predict[51].reshape(512,512)\n",
    "\n",
    "plt.imshow(test)\n",
    "test.shape"
   ]
  },
  {
   "cell_type": "code",
   "execution_count": 9,
   "metadata": {},
   "outputs": [
    {
     "data": {
      "text/plain": [
       "<matplotlib.image.AxesImage at 0x7faf196c8438>"
      ]
     },
     "execution_count": 9,
     "metadata": {},
     "output_type": "execute_result"
    },
    {
     "data": {
      "image/png": "[encoded data removed]",
      "text/plain": [
       "<Figure size 432x288 with 1 Axes>"
      ]
     },
     "metadata": {},
     "output_type": "display_data"
    }
   ],
   "source": [
    "imgs_mask_test_true = np.load(main_path+\"testMasks.npy\").astype(np.float32)\n",
    "a = imgs_mask_test_true[39].reshape(512, 512)\n",
    "plt.imshow(a)"
   ]
  },
  {
   "cell_type": "code",
   "execution_count": 26,
   "metadata": {
    "collapsed": true
   },
   "outputs": [
    {
     "data": {
      "text/plain": [
       "True"
      ]
     },
     "execution_count": 26,
     "metadata": {},
     "output_type": "execute_result"
    },
    {
     "data": {
      "image/png": "[encoded data removed]",
      "text/plain": [
       "<Figure size 432x288 with 1 Axes>"
      ]
     },
     "metadata": {},
     "output_type": "display_data"
    }
   ],
   "source": [
    "b = imgs_mask_test_reshape[53]\n",
    "plt.imshow(b)\n",
    "all_zeros = not np.any(b)\n",
    "all_zeros"
   ]
  },
  {
   "cell_type": "code",
   "execution_count": 8,
   "metadata": {},
   "outputs": [
    {
     "data": {
      "text/plain": [
       "(316, 1, 512, 512)"
      ]
     },
     "execution_count": 8,
     "metadata": {},
     "output_type": "execute_result"
    }
   ],
   "source": [
    "imgs_mask_test_true.shape"
   ]
  },
  {
   "cell_type": "markdown",
   "metadata": {},
   "source": [
    "# create bounding box csv file"
   ]
  },
  {
   "cell_type": "code",
   "execution_count": null,
   "metadata": {},
   "outputs": [],
   "source": [
    "def bbox(img):\n",
    "    rows = np.any(img, axis=1)\n",
    "    cols = np.any(img, axis=0)\n",
    "    rmin, rmax = np.where(rows)[0][[0, -1]]\n",
    "    cmin, cmax = np.where(cols)[0][[0, -1]]\n",
    "\n",
    "    return rmin, rmax, cmin, cmax"
   ]
  },
  {
   "cell_type": "code",
   "execution_count": 13,
   "metadata": {
    "scrolled": true
   },
   "outputs": [
    {
     "name": "stdout",
     "output_type": "stream",
     "text": [
      "316\n",
      "[[0. 0. 0. ... 0. 0. 0.]\n",
      " [0. 0. 0. ... 0. 0. 0.]\n",
      " [0. 0. 0. ... 0. 0. 0.]\n",
      " ...\n",
      " [0. 0. 0. ... 0. 0. 0.]\n",
      " [0. 0. 0. ... 0. 0. 0.]\n",
      " [0. 0. 0. ... 0. 0. 0.]]\n"
     ]
    }
   ],
   "source": [
    "len_img = len(imgs_mask_test_true)\n",
    "print (len_img)\n",
    "imgs_mask_test_reshape = imgs_mask_test_true.reshape(len_img, 512, 512)\n",
    "\n",
    "with open('output_boundingbox.csv', mode='w') as out_file:\n",
    "    csv_writer = csv.writer(out_file, delimiter=',', quotechar='\"', quoting=csv.QUOTE_MINIMAL)\n",
    "    csv_writer.writerow(['item', 'xmin', 'xmax', 'ymin', 'ymax'])\n",
    "    line = 0\n",
    "    for i in range(len_img):\n",
    "        item = i\n",
    "        #check if arrays contains all zero\n",
    "        all_zeros = not np.any(imgs_mask_test_reshape[i])\n",
    "        if all_zeros == False:\n",
    "            b = bbox(imgs_mask_test_reshape[i])\n",
    "            xmin = b[0]\n",
    "            xmax = b[1]\n",
    "            ymin = b[2]\n",
    "            ymax = b[3]\n",
    "        else:\n",
    "            xmin = 0\n",
    "            xmax = 0\n",
    "            ymin = 0\n",
    "            ymax = 0\n",
    "        csv_writer.writerow([item, xmin, xmax, ymin, ymax])\n",
    "        line += 1"
   ]
  }
 ],
 "metadata": {
  "kernelspec": {
   "display_name": "Python 3",
   "language": "python",
   "name": "python3"
  },
  "language_info": {
   "codemirror_mode": {
    "name": "ipython",
    "version": 3
   },
   "file_extension": ".py",
   "mimetype": "text/x-python",
   "name": "python",
   "nbconvert_exporter": "python",
   "pygments_lexer": "ipython3",
   "version": "3.6.5"
  }
 },
 "nbformat": 4,
 "nbformat_minor": 2
}
